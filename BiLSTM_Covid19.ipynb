{
  "cells": [
    {
      "cell_type": "code",
      "execution_count": 1,
      "metadata": {
        "colab": {
          "base_uri": "https://localhost:8080/"
        },
        "id": "G5LNgCZaeqfj",
        "outputId": "7ea90163-8dca-4095-d165-aa7953b44e7d"
      },
      "outputs": [
        {
          "name": "stdout",
          "output_type": "stream",
          "text": [
            "Collecting emoji\n",
            "  Downloading emoji-2.10.1-py2.py3-none-any.whl (421 kB)\n",
            "\u001b[?25l     \u001b[90m━━━━━━━━━━━━━━━━━━━━━━━━━━━━━━━━━━━━━━━━\u001b[0m \u001b[32m0.0/421.5 kB\u001b[0m \u001b[31m?\u001b[0m eta \u001b[36m-:--:--\u001b[0m\r\u001b[2K     \u001b[91m━━━━━━━━━━━━━━━━\u001b[0m\u001b[91m╸\u001b[0m\u001b[90m━━━━━━━━━━━━━━━━━━━━━━━\u001b[0m \u001b[32m174.1/421.5 kB\u001b[0m \u001b[31m5.0 MB/s\u001b[0m eta \u001b[36m0:00:01\u001b[0m\r\u001b[2K     \u001b[90m━━━━━━━━━━━━━━━━━━━━━━━━━━━━━━━━━━━━━━━━\u001b[0m \u001b[32m421.5/421.5 kB\u001b[0m \u001b[31m6.0 MB/s\u001b[0m eta \u001b[36m0:00:00\u001b[0m\n",
            "\u001b[?25hInstalling collected packages: emoji\n",
            "Successfully installed emoji-2.10.1\n",
            "Collecting tweet-preprocessor\n",
            "  Downloading tweet_preprocessor-0.6.0-py3-none-any.whl (27 kB)\n",
            "Installing collected packages: tweet-preprocessor\n",
            "Successfully installed tweet-preprocessor-0.6.0\n",
            "Requirement already satisfied: nltk in /usr/local/lib/python3.10/dist-packages (3.8.1)\n",
            "Requirement already satisfied: click in /usr/local/lib/python3.10/dist-packages (from nltk) (8.1.7)\n",
            "Requirement already satisfied: joblib in /usr/local/lib/python3.10/dist-packages (from nltk) (1.3.2)\n",
            "Requirement already satisfied: regex>=2021.8.3 in /usr/local/lib/python3.10/dist-packages (from nltk) (2023.12.25)\n",
            "Requirement already satisfied: tqdm in /usr/local/lib/python3.10/dist-packages (from nltk) (4.66.2)\n",
            "Requirement already satisfied: sentencepiece in /usr/local/lib/python3.10/dist-packages (0.1.99)\n"
          ]
        }
      ],
      "source": [
        "!pip install emoji\n",
        "!pip install tweet-preprocessor\n",
        "!pip install nltk\n",
        "!pip install sentencepiece"
      ]
    },
    {
      "cell_type": "code",
      "execution_count": 2,
      "metadata": {
        "id": "ieUfjo6sd4EU"
      },
      "outputs": [],
      "source": [
        "import pandas as pd\n",
        "import numpy as np\n",
        "from tensorflow.keras.preprocessing.text import Tokenizer\n",
        "from tensorflow.keras.preprocessing.sequence import pad_sequences\n",
        "from tensorflow.keras.models import Sequential\n",
        "from tensorflow.keras.layers import Embedding, LSTM, Dense, Bidirectional\n",
        "from sklearn.model_selection import train_test_split\n",
        "from keras.callbacks import EarlyStopping\n",
        "from keras.utils import plot_model"
      ]
    },
    {
      "cell_type": "code",
      "execution_count": 3,
      "metadata": {
        "colab": {
          "base_uri": "https://localhost:8080/"
        },
        "id": "hDNvZLJfeAfQ",
        "outputId": "8940a5d9-25cd-4b2b-cb64-6fdffc2782d2"
      },
      "outputs": [
        {
          "name": "stdout",
          "output_type": "stream",
          "text": [
            "Datasets loaded successfully.\n"
          ]
        }
      ],
      "source": [
        "# Define the file paths in the Colab environment\n",
        "file_path = '/content/Constraint_Train.csv'\n",
        "val_file_path = '/content/Constraint_Val.csv'\n",
        "test_file_path = '/content/Constraint_Test.csv'\n",
        "\n",
        "try:\n",
        "    # Load CSV datasets\n",
        "    data = pd.read_csv(file_path)\n",
        "    val_data = pd.read_csv(val_file_path)\n",
        "    test_data = pd.read_csv(test_file_path)\n",
        "    print(\"Datasets loaded successfully.\")\n",
        "\n",
        "    \n",
        "except FileNotFoundError:\n",
        "    print(\"File not found.\")\n",
        "except Exception as e:\n",
        "    print(\"An unexpected error occurred:\", e)"
      ]
    },
    {
      "cell_type": "code",
      "execution_count": 4,
      "metadata": {
        "id": "q4SMMI1-eQ_f"
      },
      "outputs": [],
      "source": [
        "data['label_encoded'] = data['label'].apply(lambda x: 0 if x == 'real' else 1)\n",
        "val_data['label_encoded'] = val_data['label'].apply(lambda x: 0 if x == 'real' else 1)"
      ]
    },
    {
      "cell_type": "code",
      "execution_count": 5,
      "metadata": {
        "colab": {
          "base_uri": "https://localhost:8080/"
        },
        "id": "s0YcWBOEeSOY",
        "outputId": "2577371b-4728-47fb-deb6-124692e333bd"
      },
      "outputs": [
        {
          "data": {
            "text/plain": [
              "((6420, 4), (2140, 4))"
            ]
          },
          "execution_count": 5,
          "metadata": {},
          "output_type": "execute_result"
        }
      ],
      "source": [
        "data.shape, val_data.shape"
      ]
    },
    {
      "cell_type": "code",
      "execution_count": 6,
      "metadata": {
        "colab": {
          "base_uri": "https://localhost:8080/"
        },
        "id": "rzn2yq-peUgx",
        "outputId": "afcfffd0-2447-463f-ccab-587bfd5fda02"
      },
      "outputs": [
        {
          "name": "stderr",
          "output_type": "stream",
          "text": [
            "[nltk_data] Downloading package punkt to /root/nltk_data...\n",
            "[nltk_data]   Unzipping tokenizers/punkt.zip.\n",
            "[nltk_data] Downloading package stopwords to /root/nltk_data...\n",
            "[nltk_data]   Unzipping corpora/stopwords.zip.\n",
            "[nltk_data] Downloading package wordnet to /root/nltk_data...\n"
          ]
        },
        {
          "name": "stdout",
          "output_type": "stream",
          "text": [
            "Preprocessed Data:\n",
            "   id                                              tweet label  label_encoded\n",
            "0   1  cdc currently report death general discrepancy...  real              0\n",
            "1   2  state reported death small rise last tuesday s...  real              0\n",
            "2   3  politically correct woman almost us pandemic e...  fake              1\n",
            "3   4    testing laboratory india th august test done dg  real              0\n",
            "4   5  populous state generate large case count look ...  real              0\n",
            "\n",
            "Preprocessed Validation Data:\n",
            "   id                                              tweet label  label_encoded\n",
            "0   1  chinese converting islam realising muslim affe...  fake              1\n",
            "1   2  people diamond princess cruise ship intially t...  fake              1\n",
            "2   3     covid19 caused bacterium virus treated aspirin  fake              1\n",
            "3   4  mike penny rnc speech praise donald trump covi...  fake              1\n",
            "4   5  10 sky explains latest data government announc...  real              0\n"
          ]
        }
      ],
      "source": [
        "import nltk\n",
        "from nltk.tokenize import word_tokenize\n",
        "from nltk.corpus import stopwords\n",
        "from nltk.stem import WordNetLemmatizer\n",
        "\n",
        "nltk.download('punkt')\n",
        "nltk.download('stopwords')\n",
        "nltk.download('wordnet')\n",
        "import preprocessor as p\n",
        "import re\n",
        "\n",
        "def preprocess_text(text):\n",
        "    # Lowercase the text\n",
        "    text = text.lower()\n",
        "\n",
        "    # Use tweet-preprocessor to remove URLs, mentions, hashtags, and emojis\n",
        "    text = p.clean(text)\n",
        "\n",
        "    # Remove punctuation except for numbers\n",
        "    text = re.sub(r'[^\\w\\s\\d]|_', '', text)\n",
        "\n",
        "    # Tokenize the text\n",
        "    tokens = word_tokenize(text)\n",
        "\n",
        "    # Remove stopwords\n",
        "    stop_words = set(stopwords.words('english'))\n",
        "    filtered_tokens = [word for word in tokens if word not in stop_words]\n",
        "\n",
        "    # Lemmatize the tokens\n",
        "    lemmatizer = WordNetLemmatizer()\n",
        "    lemmatized_tokens = [lemmatizer.lemmatize(word) for word in filtered_tokens]\n",
        "\n",
        "    # Join the tokens back into a single string\n",
        "    preprocessed_text = ' '.join(lemmatized_tokens)\n",
        "\n",
        "    return preprocessed_text\n",
        "\n",
        "# Applying text preprocessing to the \"tweet\" column in both data and val_data\n",
        "data['tweet'] = data['tweet'].apply(preprocess_text)\n",
        "val_data['tweet'] = val_data['tweet'].apply(preprocess_text)\n",
        "\n",
        "print(\"Preprocessed Data:\")\n",
        "print(data.head())\n",
        "\n",
        "print(\"\\nPreprocessed Validation Data:\")\n",
        "print(val_data.head())"
      ]
    },
    {
      "cell_type": "code",
      "execution_count": 7,
      "metadata": {
        "id": "peGb-b_bfJJz"
      },
      "outputs": [],
      "source": [
        "data['tweet'] = data['tweet'].apply(preprocess_text)\n",
        "val_data['tweet'] = val_data['tweet'].apply(preprocess_text)"
      ]
    },
    {
      "cell_type": "code",
      "execution_count": 8,
      "metadata": {
        "id": "Uz-GCTgvfRUc"
      },
      "outputs": [],
      "source": [
        "# Tokenize and pad sequences\n",
        "max_words = 10000\n",
        "maxlen = 100\n",
        "tokenizer = Tokenizer(num_words=max_words)\n",
        "tokenizer.fit_on_texts(data['tweet'])\n",
        "X = tokenizer.texts_to_sequences(data['tweet'])\n",
        "X = pad_sequences(X, maxlen=maxlen)"
      ]
    },
    {
      "cell_type": "code",
      "execution_count": 9,
      "metadata": {
        "id": "iqqBxQKGfSTt"
      },
      "outputs": [],
      "source": [
        "# Split data\n",
        "X_train, X_test, y_train, y_test = train_test_split(X, data['label_encoded'], test_size=0.2)"
      ]
    },
    {
      "cell_type": "code",
      "execution_count": 10,
      "metadata": {
        "colab": {
          "base_uri": "https://localhost:8080/",
          "height": 1000
        },
        "id": "8OYO0fZrfYuY",
        "outputId": "84bb334a-f66c-4e29-eeae-fe1bfacaa428"
      },
      "outputs": [
        {
          "name": "stdout",
          "output_type": "stream",
          "text": [
            "Epoch 1/25\n",
            "161/161 [==============================] - 33s 178ms/step - loss: 0.3600 - accuracy: 0.8372 - val_loss: 0.1963 - val_accuracy: 0.9221\n",
            "Epoch 2/25\n",
            "161/161 [==============================] - 28s 177ms/step - loss: 0.1161 - accuracy: 0.9589 - val_loss: 0.1898 - val_accuracy: 0.9252\n",
            "Epoch 3/25\n",
            "161/161 [==============================] - 27s 166ms/step - loss: 0.0459 - accuracy: 0.9871 - val_loss: 0.2191 - val_accuracy: 0.9128\n",
            "Epoch 4/25\n",
            "161/161 [==============================] - 34s 213ms/step - loss: 0.0217 - accuracy: 0.9934 - val_loss: 0.2665 - val_accuracy: 0.9182\n",
            "Epoch 5/25\n",
            "161/161 [==============================] - 33s 204ms/step - loss: 0.0089 - accuracy: 0.9977 - val_loss: 0.2804 - val_accuracy: 0.9198\n",
            "41/41 [==============================] - 1s 34ms/step - loss: 0.1898 - accuracy: 0.9252\n",
            "Test accuracy: 0.9252336621284485\n",
            "67/67 [==============================] - 2s 33ms/step - loss: 0.2002 - accuracy: 0.9248\n",
            "Validation accuracy: 0.9247663617134094\n"
          ]
        },
        {
          "data": {
            "image/png": "[encoded data removed]",
            "text/plain": [
              "<Figure size 640x480 with 1 Axes>"
            ]
          },
          "metadata": {},
          "output_type": "display_data"
        },
        {
          "data": {
            "image/png": "[encoded data removed]",
            "text/plain": [
              "<Figure size 640x480 with 1 Axes>"
            ]
          },
          "metadata": {},
          "output_type": "display_data"
        }
      ],
      "source": [
        "import matplotlib.pyplot as plt\n",
        "# Build the model\n",
        "embedding_dim = 128\n",
        "model = Sequential()\n",
        "model.add(Embedding(input_dim=max_words, output_dim=embedding_dim, input_length=maxlen))\n",
        "model.add(Bidirectional(LSTM(64)))\n",
        "model.add(Dense(1, activation='sigmoid'))\n",
        "\n",
        "# Define early stopping callback\n",
        "early_stopping = EarlyStopping(monitor='val_loss', patience=3, restore_best_weights=True)\n",
        "\n",
        "# Compile the model\n",
        "model.compile(optimizer='adam', loss='binary_crossentropy', metrics=['accuracy'])\n",
        "\n",
        "# Train the model\n",
        "history = model.fit(X_train, y_train, epochs=25, validation_data=(X_test, y_test),callbacks=[early_stopping])\n",
        "\n",
        "# Evaluate the model\n",
        "loss, accuracy = model.evaluate(X_test, y_test)\n",
        "print(\"Test accuracy:\", accuracy)\n",
        "\n",
        "# Preprocess text in val_data\n",
        "val_data['tweet'] = val_data['tweet'].apply(preprocess_text)\n",
        "\n",
        "# Tokenize and pad sequences for val_data\n",
        "X_val = tokenizer.texts_to_sequences(val_data['tweet'])\n",
        "X_val = pad_sequences(X_val, maxlen=maxlen)\n",
        "\n",
        "# Evaluate the model on val_data\n",
        "val_loss, val_accuracy = model.evaluate(X_val, val_data['label_encoded'])\n",
        "print(\"Validation accuracy:\", val_accuracy)\n",
        "\n",
        "plot_model(model, to_file='model_architecture.png', show_shapes=True, show_layer_names=True)\n",
        "\n",
        "plt.plot(history.history['accuracy'])\n",
        "plt.plot(history.history['val_accuracy'])\n",
        "plt.title('Model Accuracy')\n",
        "plt.ylabel('Accuracy')\n",
        "plt.xlabel('Epoch')\n",
        "plt.legend(['Train', 'Validation'], loc='upper left')\n",
        "plt.show()\n",
        "\n",
        "# Plot training & validation loss values\n",
        "plt.plot(history.history['loss'])\n",
        "plt.plot(history.history['val_loss'])\n",
        "plt.title('Model Loss')\n",
        "plt.ylabel('Loss')\n",
        "plt.xlabel('Epoch')\n",
        "plt.legend(['Train', 'Validation'], loc='upper left')\n",
        "plt.show()"
      ]
    },
    {
      "cell_type": "code",
      "execution_count": 11,
      "metadata": {
        "colab": {
          "base_uri": "https://localhost:8080/"
        },
        "id": "foJShMSTwb46",
        "outputId": "c946f29f-7a2e-45de-ce2d-a05a9b6588ff"
      },
      "outputs": [
        {
          "name": "stdout",
          "output_type": "stream",
          "text": [
            "67/67 [==============================] - 3s 33ms/step\n",
            "Precision: 0.9102196752626552\n",
            "Recall: 0.9343137254901961\n",
            "F1 Score: 0.9221093372036768\n"
          ]
        }
      ],
      "source": [
        "import numpy as np\n",
        "\n",
        "\n",
        "true_labels = val_data['label_encoded']  \n",
        "predicted_probabilities = model.predict(X_val) \n",
        "\n",
        "# Threshold the predicted probabilities to obtain binary predictions\n",
        "predicted_labels = (predicted_probabilities > 0.5).astype(int)\n",
        "\n",
        "# Flatten the predicted labels array\n",
        "predicted_labels_flattened = predicted_labels.flatten()\n",
        "\n",
        "# Reshape the predicted labels array to match the shape of the true labels array\n",
        "predicted_labels_reshaped = predicted_labels_flattened[:len(true_labels)]\n",
        "\n",
        "# Compute true positives, false positives, false negatives\n",
        "tp = np.sum((true_labels == 1) & (predicted_labels_reshaped == 1))\n",
        "fp = np.sum((true_labels == 0) & (predicted_labels_reshaped == 1))\n",
        "fn = np.sum((true_labels == 1) & (predicted_labels_reshaped == 0))\n",
        "\n",
        "# Compute precision, recall, and F1 score\n",
        "precision = tp / (tp + fp)\n",
        "recall = tp / (tp + fn)\n",
        "f1 = 2 * (precision * recall) / (precision + recall)\n",
        "\n",
        "print(\"Precision:\", precision)\n",
        "print(\"Recall:\", recall)\n",
        "print(\"F1 Score:\", f1)\n"
      ]
    },
    {
      "cell_type": "code",
      "execution_count": 12,
      "metadata": {
        "colab": {
          "base_uri": "https://localhost:8080/"
        },
        "id": "5BtvEHF6PLOm",
        "outputId": "04998223-2680-4864-c471-4912f5a90c34"
      },
      "outputs": [
        {
          "name": "stdout",
          "output_type": "stream",
          "text": [
            "Mounted at /content/drive\n"
          ]
        }
      ],
      "source": [
        "from google.colab import drive\n",
        "drive.mount('/content/drive')"
      ]
    },
    {
      "cell_type": "code",
      "execution_count": 13,
      "metadata": {
        "colab": {
          "base_uri": "https://localhost:8080/"
        },
        "id": "TeSM8nlnQ8f5",
        "outputId": "67f7f1d0-1a21-401a-888c-459026a84cb6"
      },
      "outputs": [
        {
          "name": "stderr",
          "output_type": "stream",
          "text": [
            "/usr/local/lib/python3.10/dist-packages/keras/src/engine/training.py:3103: UserWarning: You are saving your model as an HDF5 file via `model.save()`. This file format is considered legacy. We recommend using instead the native Keras format, e.g. `model.save('my_model.keras')`.\n",
            "  saving_api.save_model(\n"
          ]
        }
      ],
      "source": [
        "# Save entire model\n",
        "model.save('/content/drive/MyDrive/Bilstm.h5')\n",
        "\n",
        "# Save weights only\n",
        "model.save_weights('/content/drive/MyDrive/Bilstm_weights.h5')"
      ]
    },
    {
      "cell_type": "code",
      "execution_count": 15,
      "metadata": {
        "colab": {
          "base_uri": "https://localhost:8080/"
        },
        "id": "71lkC3L-RF9G",
        "outputId": "572b3a92-2082-4e60-c679-e6b54b74a8b2"
      },
      "outputs": [
        {
          "name": "stdout",
          "output_type": "stream",
          "text": [
            "1/1 [==============================] - 0s 91ms/step\n",
            "Wearing a mask can cause a fungal infection.\n",
            "The text is classified : False\n"
          ]
        }
      ],
      "source": [
        "# Your input text\n",
        "input_text = \"Wearing a mask can cause a fungal infection.\"\n",
        "\n",
        "# Preprocess the text\n",
        "preprocessed_text = preprocess_text(input_text)\n",
        "\n",
        "# Tokenize and pad the text\n",
        "sequence = tokenizer.texts_to_sequences([preprocessed_text])\n",
        "padded_sequence = pad_sequences(sequence, maxlen=maxlen)\n",
        "\n",
        "# Load the model weights\n",
        "model.load_weights(\"/content/drive/MyDrive/Bilstm_weights.h5\")\n",
        "\n",
        "prediction = model.predict(padded_sequence)\n",
        "\n",
        "threshold = 0.8  # Adjust this based on your desired confidence level\n",
        "\n",
        "print(input_text)\n",
        "\n",
        "if prediction[0][0] < threshold:\n",
        "    print(\"The text is classified : True\")\n",
        "else:\n",
        "    print(\"The text is classified : False\")"
      ]
    }
  ],
  "metadata": {
    "colab": {
      "provenance": []
    },
    "kernelspec": {
      "display_name": "Python 3",
      "name": "python3"
    },
    "language_info": {
      "name": "python"
    }
  },
  "nbformat": 4,
  "nbformat_minor": 0
}
