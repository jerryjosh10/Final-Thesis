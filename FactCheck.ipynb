{
  "cells": [
    {
      "cell_type": "code",
      "execution_count": 1,
      "metadata": {
        "colab": {
          "base_uri": "https://localhost:8080/"
        },
        "id": "9nlGi2RS8Aan",
        "outputId": "5c1f4c99-3e70-48f1-8fbb-e2e7268ec035"
      },
      "outputs": [
        {
          "name": "stdout",
          "output_type": "stream",
          "text": [
            "Collecting emoji\n",
            "  Downloading emoji-2.10.1-py2.py3-none-any.whl (421 kB)\n",
            "\u001b[?25l     \u001b[90m━━━━━━━━━━━━━━━━━━━━━━━━━━━━━━━━━━━━━━━━\u001b[0m \u001b[32m0.0/421.5 kB\u001b[0m \u001b[31m?\u001b[0m eta \u001b[36m-:--:--\u001b[0m\r\u001b[2K     \u001b[91m━━━━━━━━━━━\u001b[0m\u001b[91m╸\u001b[0m\u001b[90m━━━━━━━━━━━━━━━━━━━━━━━━━━━━\u001b[0m \u001b[32m122.9/421.5 kB\u001b[0m \u001b[31m3.5 MB/s\u001b[0m eta \u001b[36m0:00:01\u001b[0m\r\u001b[2K     \u001b[91m━━━━━━━━━━━━━━━━━━━━━━━━━━━━━━━━━━━━━━━\u001b[0m\u001b[91m╸\u001b[0m \u001b[32m419.8/421.5 kB\u001b[0m \u001b[31m7.7 MB/s\u001b[0m eta \u001b[36m0:00:01\u001b[0m\r\u001b[2K     \u001b[90m━━━━━━━━━━━━━━━━━━━━━━━━━━━━━━━━━━━━━━━━\u001b[0m \u001b[32m421.5/421.5 kB\u001b[0m \u001b[31m5.6 MB/s\u001b[0m eta \u001b[36m0:00:00\u001b[0m\n",
            "\u001b[?25hInstalling collected packages: emoji\n",
            "Successfully installed emoji-2.10.1\n",
            "Collecting tweet-preprocessor\n",
            "  Downloading tweet_preprocessor-0.6.0-py3-none-any.whl (27 kB)\n",
            "Installing collected packages: tweet-preprocessor\n",
            "Successfully installed tweet-preprocessor-0.6.0\n",
            "Requirement already satisfied: nltk in /usr/local/lib/python3.10/dist-packages (3.8.1)\n",
            "Requirement already satisfied: click in /usr/local/lib/python3.10/dist-packages (from nltk) (8.1.7)\n",
            "Requirement already satisfied: joblib in /usr/local/lib/python3.10/dist-packages (from nltk) (1.3.2)\n",
            "Requirement already satisfied: regex>=2021.8.3 in /usr/local/lib/python3.10/dist-packages (from nltk) (2023.12.25)\n",
            "Requirement already satisfied: tqdm in /usr/local/lib/python3.10/dist-packages (from nltk) (4.66.2)\n",
            "Requirement already satisfied: sentencepiece in /usr/local/lib/python3.10/dist-packages (0.1.99)\n"
          ]
        }
      ],
      "source": [
        "!pip install emoji\n",
        "!pip install tweet-preprocessor\n",
        "!pip install nltk\n",
        "!pip install sentencepiece"
      ]
    },
    {
      "cell_type": "code",
      "execution_count": 10,
      "metadata": {
        "colab": {
          "base_uri": "https://localhost:8080/"
        },
        "id": "kCPbf4-qpANz",
        "outputId": "96a1c0b3-1e64-46b1-e8c7-eb21fc5ceb38"
      },
      "outputs": [
        {
          "name": "stdout",
          "output_type": "stream",
          "text": [
            "Fungal contamination of medical masks among forensic healthcare ...\n",
            "https://www.ncbi.nlm.nih.gov/pmc/articles/PMC10132829/\n",
            "Apr 26, 2023 ... A fungal infection can thrive in the moist environment provided by the mask. During an outbreak of infectious diseases, like SARS and Sars-CoV-2 ...\n",
            "\n",
            "Can Face Masks Cause Yeast Infections? - Spring Street Dermatology\n",
            "https://springstderm.com/can-face-masks-cause-yeast-infections/\n",
            "Aug 5, 2020 ... Q: Is it possible to get a yeast infection on your face from wearing a mask? Yes, absolutely! Dr. Palep warns that a yeast infection can occur ...\n",
            "\n",
            "Bacterial and fungal isolation from face masks under the COVID-19 ...\n",
            "https://www.nature.com/articles/s41598-022-15409-x\n",
            "Jul 18, 2022 ... ... infections is to wear face masks; several ... Since masks can be a direct source of infection ... fungal infections that can exacerbate COVID-19.\n",
            "\n",
            "The Medical Minute: Separating mask myths from facts - Penn State ...\n",
            "https://pennstatehealthnews.org/2020/07/the-medical-minute-separating-mask-myths-from-facts/\n",
            "Jul 9, 2020 ... Myth: Masks trap in bacteria and fungus and make people more susceptible to bacterial or fungal pneumonia. Fact: “There is no data to support ...\n",
            "\n",
            "Fact check: Masks worn during COVID-19 response do not cause ...\n",
            "https://www.reuters.com/article/idUSKBN24B257/\n",
            "Jul 10, 2020 ... False. Wearing a face mask to protect from COVID-19 does not cause fungal lung infections. This article was produced by the Reuters Fact Check ...\n",
            "\n",
            "Fact check: Wearing a mask does not cause fungal lung infection\n",
            "https://www.usatoday.com/story/news/factcheck/2021/09/24/fact-check-wearing-mask-does-not-cause-fungal-lung-infection/8377735002/\n",
            "Sep 24, 2021 ... \"Wearing a mask does not cause fungal infections in the lungs,\" said Dr. Ranit Mishori, professor of family medicine at Georgetown University ...\n",
            "\n",
            "Yeast Infection on Face or Lips: Symptoms, Causes, Diagnosis ...\n",
            "https://my.clevelandclinic.org/health/diseases/23201-yeast-infection-on-face\n",
            "Jun 6, 2022 ... Conditions that may allow Candida to grow on your face include: Wearing tight face masks that trap moisture. Poor hygiene. Hot, humid ...\n",
            "\n",
            "Fungal Meningitis | CDC\n",
            "https://www.cdc.gov/meningitis/fungal.html\n",
            "... Candida can enter the bloodstream or internal organs and cause an infection. ... If you can't avoid these areas, wear an N95 respirator (a type of face mask) ...\n",
            "\n",
            "Expert Sets Straight 5 Common Face Mask Myths\n",
            "https://www.unitypoint.org/news-and-articles/expert-sets-straight-5-common-face-mask-myths\n",
            "Myth #1: Wearing Face Masks Can Cause Fungal and Bacterial Infections – Like Pneumonia. First, let's talk about bacterial infections. The way bacterial ...\n",
            "\n",
            "Is Mask Wearing Causing Fungal Lung Infections? No, This Is ...\n",
            "https://www.capradio.org/articles/2020/07/06/is-mask-wearing-causing-fungal-lung-infections-no-this-is-another-bogus-facebook-claim/\n",
            "Jul 6, 2020 ... “Experts say prolonged use of N95 respirator masks can increase blood CO2 levels for people with breathing problems, but those masks are not ...\n",
            "\n"
          ]
        }
      ],
      "source": [
        "import requests\n",
        "\n",
        "API_KEY = '<Your API Key>'\n",
        "CX = '<Your CX value>'\n",
        "\n",
        "def search(query):\n",
        "    url = f\"https://www.googleapis.com/customsearch/v1?key={API_KEY}&cx={CX}&q={query}\"\n",
        "    response = requests.get(url)\n",
        "    results = response.json()\n",
        "    return results['items']\n",
        "\n",
        "query = \"Wearing a mask can cause a fungal infection.\"\n",
        "articles = search(query)\n",
        "\n",
        "for article in articles:\n",
        "    print(article['title'])\n",
        "    print(article['link'])\n",
        "    print(article['snippet'])\n",
        "    print()\n",
        "\n"
      ]
    },
    {
      "cell_type": "code",
      "execution_count": 11,
      "metadata": {
        "id": "2ajm27shqu6G"
      },
      "outputs": [],
      "source": [
        "from sklearn.feature_extraction.text import TfidfVectorizer\n",
        "from sklearn.metrics.pairwise import cosine_similarity\n",
        "import re\n",
        "import nltk\n",
        "from nltk.tokenize import word_tokenize\n",
        "from nltk.corpus import stopwords\n",
        "from nltk.stem import WordNetLemmatizer\n",
        "from nltk.corpus import stopwords\n",
        "import preprocessor as p\n",
        "\n"
      ]
    },
    {
      "cell_type": "code",
      "execution_count": 12,
      "metadata": {
        "colab": {
          "base_uri": "https://localhost:8080/"
        },
        "id": "N7bocBqZqwa_",
        "outputId": "867fd345-a46d-48ec-d482-172711e3baa8"
      },
      "outputs": [
        {
          "name": "stdout",
          "output_type": "stream",
          "text": [
            "wearing a mask can cause a fungal infection\n"
          ]
        },
        {
          "name": "stderr",
          "output_type": "stream",
          "text": [
            "[nltk_data] Downloading package stopwords to /root/nltk_data...\n",
            "[nltk_data]   Package stopwords is already up-to-date!\n",
            "[nltk_data] Downloading package wordnet to /root/nltk_data...\n",
            "[nltk_data]   Package wordnet is already up-to-date!\n"
          ]
        }
      ],
      "source": [
        "nltk.download('stopwords')\n",
        "nltk.download('wordnet')\n",
        "\n",
        "def preprocess_text(text):\n",
        "    # Lowercase, remove punctuation, tokenize\n",
        "    # text = ' '.join(text)\n",
        "    text = text.lower()\n",
        "    text = re.sub(r'[^\\w\\s]', '', text)  # Remove punctuation\n",
        "    tokens = text.split()\n",
        "\n",
        "    # Remove stop words\n",
        "    # stop_words = set(stopwords.words('english'))\n",
        "    # tokens = [token for token in tokens if token not in stop_words]\n",
        "\n",
        "    # Lemmatization\n",
        "    lemmatizer = WordNetLemmatizer()\n",
        "    tokens = [lemmatizer.lemmatize(token) for token in tokens]\n",
        "\n",
        "    return tokens\n",
        "\n",
        "# # Sample query and articles\n",
        "# query = \"Sample query text\"\n",
        "# articles = [{\"snippet\": \"Sample article 1\"}, {\"snippet\": \"Sample article 2\"}]\n",
        "\n",
        "input_text_processed = preprocess_text(query)\n",
        "input_text_processed = ' '.join(input_text_processed)  # Join tokens into string\n",
        "\n",
        "print(input_text_processed)\n",
        "\n",
        "\n"
      ]
    },
    {
      "cell_type": "code",
      "execution_count": 13,
      "metadata": {
        "colab": {
          "base_uri": "https://localhost:8080/"
        },
        "id": "k9oIGPX8xkdK",
        "outputId": "194c753d-690f-4fce-9c67-924807c05314"
      },
      "outputs": [
        {
          "name": "stdout",
          "output_type": "stream",
          "text": [
            "Similarity with article 1: 0.8164965809277261\n",
            "Similarity with article 2: 0.7715167498104597\n",
            "Similarity with article 3: 0.7698003589195012\n",
            "Similarity with article 4: 0.5773502691896258\n",
            "Similarity with article 5: 0.912870929175277\n",
            "Similarity with article 6: 0.912870929175277\n",
            "Similarity with article 7: 0.5773502691896258\n",
            "Similarity with article 8: 0.8164965809277261\n",
            "Similarity with article 9: 0.9525793444156804\n",
            "Similarity with article 10: 0.5477225575051663\n"
          ]
        }
      ],
      "source": [
        "if input_text_processed.strip():\n",
        "    search_results_processed = [preprocess_text(article['snippet']) for article in articles]\n",
        "    search_results_processed = [' '.join(text) for text in search_results_processed]\n",
        "\n",
        "    vectorizer = TfidfVectorizer(min_df=1)\n",
        "    input_text_vec = vectorizer.fit_transform([input_text_processed])\n",
        "    search_results_vec = vectorizer.transform(search_results_processed)\n",
        "\n",
        "    similarities = cosine_similarity(input_text_vec, search_results_vec)\n",
        "\n",
        "    # Print results as before\n",
        "    for i, article in enumerate(articles):\n",
        "        print(f\"Similarity with article {i+1}: {similarities[0][i]}\")\n",
        "else:\n",
        "    print(\"Input text contains no meaningful content.\")"
      ]
    },
    {
      "cell_type": "code",
      "execution_count": 14,
      "metadata": {
        "colab": {
          "base_uri": "https://localhost:8080/"
        },
        "id": "QcR_CQqkq3Q8",
        "outputId": "5fc34ac4-00af-4598-b855-d354e2ae22fd"
      },
      "outputs": [
        {
          "name": "stdout",
          "output_type": "stream",
          "text": [
            "Article 1:\n",
            "Title: Expert Sets Straight 5 Common Face Mask Myths\n",
            "Link: https://www.unitypoint.org/news-and-articles/expert-sets-straight-5-common-face-mask-myths\n",
            "Snippet: Myth #1: Wearing Face Masks Can Cause Fungal and Bacterial Infections – Like Pneumonia. First, let's talk about bacterial infections. The way bacterial ...\n",
            "\n",
            "Article 2:\n",
            "Title: Fact check: Masks worn during COVID-19 response do not cause ...\n",
            "Link: https://www.reuters.com/article/idUSKBN24B257/\n",
            "Snippet: Jul 10, 2020 ... False. Wearing a face mask to protect from COVID-19 does not cause fungal lung infections. This article was produced by the Reuters Fact Check ...\n",
            "\n",
            "Article 3:\n",
            "Title: Fact check: Wearing a mask does not cause fungal lung infection\n",
            "Link: https://www.usatoday.com/story/news/factcheck/2021/09/24/fact-check-wearing-mask-does-not-cause-fungal-lung-infection/8377735002/\n",
            "Snippet: Sep 24, 2021 ... \"Wearing a mask does not cause fungal infections in the lungs,\" said Dr. Ranit Mishori, professor of family medicine at Georgetown University ...\n",
            "\n"
          ]
        }
      ],
      "source": [
        "# Get indices of articles sorted by similarity score in descending order\n",
        "sorted_indices = sorted(range(len(similarities[0])), key=lambda i: similarities[0][i], reverse=True)\n",
        "\n",
        "# Print details for the top 3 articles\n",
        "for i in range(3):\n",
        "    idx = sorted_indices[i]\n",
        "    article = articles[idx]\n",
        "    title = article.get('title', 'No title available')\n",
        "    link = article.get('link', 'No link available')\n",
        "    snippet = article.get('snippet', 'No snippet available')\n",
        "\n",
        "    print(f\"Article {i+1}:\")\n",
        "    print(f\"Title: {title}\")\n",
        "    print(f\"Link: {link}\")\n",
        "    print(f\"Snippet: {snippet}\")\n",
        "    print()\n"
      ]
    },
    {
      "cell_type": "code",
      "execution_count": null,
      "metadata": {
        "id": "PnDJp_7Rq5s-"
      },
      "outputs": [],
      "source": []
    },
    {
      "cell_type": "code",
      "execution_count": null,
      "metadata": {
        "id": "j0A7gT_fq9sK"
      },
      "outputs": [],
      "source": []
    }
  ],
  "metadata": {
    "colab": {
      "provenance": []
    },
    "kernelspec": {
      "display_name": "Python 3",
      "name": "python3"
    },
    "language_info": {
      "name": "python"
    }
  },
  "nbformat": 4,
  "nbformat_minor": 0
}
